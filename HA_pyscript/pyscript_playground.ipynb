{
 "cells": [
  {
   "cell_type": "code",
   "execution_count": 1,
   "metadata": {},
   "outputs": [],
   "source": [
    "light.wled_printer.turn_off()"
   ]
  },
  {
   "cell_type": "code",
   "execution_count": 2,
   "metadata": {},
   "outputs": [],
   "source": [
    "light.wled_printer.turn_on()"
   ]
  },
  {
   "cell_type": "code",
   "execution_count": null,
   "metadata": {},
   "outputs": [],
   "source": [
    "light.terraria.turn_on()"
   ]
  },
  {
   "cell_type": "code",
   "execution_count": 3,
   "metadata": {},
   "outputs": [],
   "source": [
    "light.terraria.turn_off()"
   ]
  },
  {
   "cell_type": "code",
   "execution_count": 1,
   "metadata": {},
   "outputs": [
    {
     "data": {
      "text/plain": [
       "25.7"
      ]
     },
     "execution_count": 1,
     "metadata": {},
     "output_type": "execute_result"
    }
   ],
   "source": [
    "float(sensor.terratemp)"
   ]
  },
  {
   "cell_type": "code",
   "execution_count": 10,
   "metadata": {},
   "outputs": [
    {
     "name": "stdout",
     "output_type": "stream",
     "text": [
      "Running auto temp function!\n",
      "Temperature: 27.1 DegC\n",
      "Heater is on\n",
      "temperature changed!\n",
      "Disabled heater!\n",
      "temperature changed!\n"
     ]
    }
   ],
   "source": [
    "@state_trigger(\"sensor.terratemp\")\n",
    "def state_trig_func(**kwargs):\n",
    "    log.info(f\"temperature changed!\")\n",
    "    if (float(sensor.terratemp) < 26.5) and (light.terraria == 'off'):\n",
    "        log.info(f\"Enabled heater!\")\n",
    "        light.terraria.turn_on()\n",
    "\n",
    "    if (float(sensor.terratemp) > 27.5) and (light.terraria == 'on'):\n",
    "        log.info(f\"Disabled heater!\")\n",
    "        light.terraria.turn_off()\n",
    "        \n",
    "log.info(f\"Running auto temp function!\")\n",
    "log.info(\"Temperature: {:2.1f} DegC\".format(float(sensor.terratemp)))\n",
    "log.info(\"Heater is {:}\".format(light.terraria))\n",
    "\n",
    "# make sure start in correct state "
   ]
  },
  {
   "cell_type": "code",
   "execution_count": 5,
   "metadata": {},
   "outputs": [
    {
     "data": {
      "text/plain": [
       "True"
      ]
     },
     "execution_count": 5,
     "metadata": {},
     "output_type": "execute_result"
    }
   ],
   "source": [
    "light.terraria == 'on'"
   ]
  },
  {
   "cell_type": "code",
   "execution_count": 7,
   "metadata": {},
   "outputs": [],
   "source": [
    "del state_trig_func"
   ]
  },
  {
   "cell_type": "code",
   "execution_count": null,
   "metadata": {},
   "outputs": [],
   "source": [
    "@time_trigger\n",
    "def run_on_startup_or_reload():\n",
    "    \"\"\"This function runs automatically once on startup or reload\"\"\"\n",
    "    pass"
   ]
  }
 ],
 "metadata": {
  "kernelspec": {
   "display_name": "hass pyscript",
   "language": "python",
   "name": "pyscript"
  },
  "language_info": {
   "codemirror_mode": "",
   "file_extension": ".py",
   "mimetype": "",
   "name": "python",
   "nbconvert_exporter": "",
   "version": "3.10.6"
  },
  "vscode": {
   "interpreter": {
    "hash": "9cbbae94c5ea256b4f458a6b97ee378cbec8771e4c3cff7e3b6171a526852aa5"
   }
  }
 },
 "nbformat": 4,
 "nbformat_minor": 2
}

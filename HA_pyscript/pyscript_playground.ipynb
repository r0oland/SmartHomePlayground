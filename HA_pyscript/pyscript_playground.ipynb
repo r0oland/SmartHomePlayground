{
 "cells": [
  {
   "cell_type": "code",
   "execution_count": 1,
   "metadata": {},
   "outputs": [],
   "source": [
    "light.wled_printer.turn_off()"
   ]
  },
  {
   "cell_type": "code",
   "execution_count": 2,
   "metadata": {},
   "outputs": [],
   "source": [
    "light.wled_printer.turn_on()"
   ]
  },
  {
   "cell_type": "code",
   "execution_count": null,
   "metadata": {},
   "outputs": [],
   "source": [
    "light.terraria.turn_on()"
   ]
  },
  {
   "cell_type": "code",
   "execution_count": 3,
   "metadata": {},
   "outputs": [],
   "source": [
    "light.terraria.turn_off()"
   ]
  },
  {
   "cell_type": "code",
   "execution_count": 1,
   "metadata": {},
   "outputs": [
    {
     "data": {
      "text/plain": [
       "25.7"
      ]
     },
     "execution_count": 1,
     "metadata": {},
     "output_type": "execute_result"
    }
   ],
   "source": [
    "float(sensor.terratemp)"
   ]
  },
  {
   "cell_type": "code",
   "execution_count": 10,
   "metadata": {},
   "outputs": [
    {
     "name": "stdout",
     "output_type": "stream",
     "text": [
      "Running auto temp function!\n",
      "Temperature: 27.1 DegC\n",
      "Heater is on\n",
      "temperature changed!\n",
      "Disabled heater!\n",
      "temperature changed!\n"
     ]
    }
   ],
   "source": [
    "@state_trigger(\"sensor.terratemp\")\n",
    "def state_trig_func(**kwargs):\n",
    "    log.info(f\"temperature changed!\")\n",
    "    if (float(sensor.terratemp) < 26.5) and (light.terraria == 'off'):\n",
    "        log.info(f\"Enabled heater!\")\n",
    "        light.terraria.turn_on()\n",
    "\n",
    "    if (float(sensor.terratemp) > 27.5) and (light.terraria == 'on'):\n",
    "        log.info(f\"Disabled heater!\")\n",
    "        light.terraria.turn_off()\n",
    "        \n",
    "log.info(f\"Running auto temp function!\")\n",
    "log.info(\"Temperature: {:2.1f} DegC\".format(float(sensor.terratemp)))\n",
    "log.info(\"Heater is {:}\".format(light.terraria))\n",
    "\n",
    "# make sure start in correct state "
   ]
  },
  {
   "cell_type": "code",
   "execution_count": 25,
   "metadata": {},
   "outputs": [],
   "source": [
    "import numpy as np"
   ]
  },
  {
   "cell_type": "code",
   "execution_count": 35,
   "metadata": {},
   "outputs": [
    {
     "name": "stdout",
     "output_type": "stream",
     "text": [
      "measured power = 50.2W\n",
      "set percent = 25.1\n"
     ]
    }
   ],
   "source": []
  },
  {
   "cell_type": "code",
   "execution_count": 20,
   "metadata": {},
   "outputs": [],
   "source": [
    "\n",
    "\n",
    "analogValue = \n",
    "fan.fan_pwm_gauge_01.set_percentage(100)"
   ]
  },
  {
   "cell_type": "code",
   "execution_count": 17,
   "metadata": {},
   "outputs": [],
   "source": [
    "light.pwm_gauge_01.turn_on()\n"
   ]
  },
  {
   "cell_type": "code",
   "execution_count": 14,
   "metadata": {},
   "outputs": [],
   "source": [
    "light.pwm_gauge_01.brightness = 20"
   ]
  },
  {
   "cell_type": "code",
   "execution_count": 16,
   "metadata": {},
   "outputs": [],
   "source": [
    "light.pwm_gauge_01.turn_off()\n"
   ]
  },
  {
   "cell_type": "code",
   "execution_count": 7,
   "metadata": {},
   "outputs": [],
   "source": [
    "del state_trig_func"
   ]
  },
  {
   "cell_type": "code",
   "execution_count": null,
   "metadata": {},
   "outputs": [],
   "source": [
    "@time_trigger\n",
    "def run_on_startup_or_reload():\n",
    "    \"\"\"This function runs automatically once on startup or reload\"\"\"\n",
    "    pass"
   ]
  },
  {
   "cell_type": "code",
   "execution_count": 36,
   "metadata": {},
   "outputs": [
    {
     "name": "stdout",
     "output_type": "stream",
     "text": [
      "measured power = 78.3W\n",
      "set percent = 39.15\n",
      "measured power = 84.4W\n",
      "set percent = 42.2\n",
      "measured power = 140.2W\n",
      "set percent = 70.1\n",
      "measured power = 50.8W\n",
      "set percent = 25.4\n",
      "measured power = 46.8W\n",
      "set percent = 23.4\n",
      "measured power = 132.2W\n",
      "set percent = 66.1\n",
      "measured power = 80.3W\n",
      "set percent = 40.15\n"
     ]
    }
   ],
   "source": [
    "@state_trigger(\"sensor.plug_printer_power\")\n",
    "def state_trig_func(**kwargs):\n",
    "    power = np.float(sensor.plug_printer_power)\n",
    "    # make sure power is less than 200\n",
    "    power = np.min([power,200])\n",
    "    log.info(\"measured power = \" + str(power) + \"W\")\n",
    "    percent = power/200*100\n",
    "    log.info(\"set percent = \" + str(percent))\n",
    "    fan.fan_pwm_gauge_01.set_percentage(percent)\n"
   ]
  },
  {
   "cell_type": "code",
   "execution_count": null,
   "metadata": {},
   "outputs": [],
   "source": []
  }
 ],
 "metadata": {
  "kernelspec": {
   "display_name": "hass pyscript",
   "language": "python",
   "name": "pyscript"
  },
  "language_info": {
   "codemirror_mode": "",
   "file_extension": ".py",
   "mimetype": "",
   "name": "python",
   "nbconvert_exporter": "",
   "version": "1.0"
  },
  "vscode": {
   "interpreter": {
    "hash": "9cbbae94c5ea256b4f458a6b97ee378cbec8771e4c3cff7e3b6171a526852aa5"
   }
  }
 },
 "nbformat": 4,
 "nbformat_minor": 2
}

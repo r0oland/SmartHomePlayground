{
 "cells": [
  {
   "cell_type": "code",
   "execution_count": 1,
   "metadata": {},
   "outputs": [
    {
     "name": "stdout",
     "output_type": "stream",
     "text": [
      "Python 3.13.0\n",
      "Version: 2024.10.2\n"
     ]
    }
   ],
   "source": [
    "# run command \"esphome version\" in this cell and print output\n",
    "!python --version\n",
    "!esphome version"
   ]
  }
 ],
 "metadata": {
  "kernelspec": {
   "display_name": "ha",
   "language": "python",
   "name": "python3"
  },
  "language_info": {
   "codemirror_mode": {
    "name": "ipython",
    "version": 3
   },
   "file_extension": ".py",
   "mimetype": "text/x-python",
   "name": "python",
   "nbconvert_exporter": "python",
   "pygments_lexer": "ipython3",
   "version": "3.13.0"
  }
 },
 "nbformat": 4,
 "nbformat_minor": 2
}
